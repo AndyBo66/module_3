{
  "cells": [
    {
      "cell_type": "code",
      "source": [
        "pip install pandas"
      ],
      "metadata": {
        "id": "Hq6x0aQXSaj3",
        "colab": {
          "base_uri": "https://localhost:8080/"
        },
        "outputId": "fcf300e4-8aab-41c5-cd92-835f950f44a4"
      },
      "execution_count": 2,
      "outputs": [
        {
          "output_type": "stream",
          "name": "stdout",
          "text": [
            "Requirement already satisfied: pandas in /usr/local/lib/python3.11/dist-packages (2.2.2)\n",
            "Requirement already satisfied: numpy>=1.23.2 in /usr/local/lib/python3.11/dist-packages (from pandas) (2.0.2)\n",
            "Requirement already satisfied: python-dateutil>=2.8.2 in /usr/local/lib/python3.11/dist-packages (from pandas) (2.8.2)\n",
            "Requirement already satisfied: pytz>=2020.1 in /usr/local/lib/python3.11/dist-packages (from pandas) (2025.2)\n",
            "Requirement already satisfied: tzdata>=2022.7 in /usr/local/lib/python3.11/dist-packages (from pandas) (2025.2)\n",
            "Requirement already satisfied: six>=1.5 in /usr/local/lib/python3.11/dist-packages (from python-dateutil>=2.8.2->pandas) (1.17.0)\n"
          ]
        }
      ]
    },
    {
      "cell_type": "code",
      "source": [
        "import pandas as pd"
      ],
      "metadata": {
        "id": "cEeLlgQexCDG"
      },
      "execution_count": 3,
      "outputs": []
    },
    {
      "cell_type": "code",
      "source": [
        "from google.colab import drive\n",
        "drive.mount('/gdrive') # подключение моего гугл-диска"
      ],
      "metadata": {
        "colab": {
          "base_uri": "https://localhost:8080/"
        },
        "id": "yMfkCUjNs60e",
        "outputId": "4c2d114c-ed0c-4db5-92e9-efac557ec107"
      },
      "execution_count": 4,
      "outputs": [
        {
          "output_type": "stream",
          "name": "stdout",
          "text": [
            "Drive already mounted at /gdrive; to attempt to forcibly remount, call drive.mount(\"/gdrive\", force_remount=True).\n"
          ]
        }
      ]
    },
    {
      "cell_type": "code",
      "source": [
        "from google.colab import drive\n",
        "drive.mount('/gdrive') # подключение моего гугл-диска\n",
        "#################################################################\n",
        "df=pd.read_csv('/gdrive/MyDrive/ITMO_2025/titanic.csv') # чтение файла 'titanic.csv'\n",
        "df.head()\n",
        "#################################################################\n",
        "df.info() # основная информация о датасете\n",
        "#################################################################\n",
        "survival=df.groupby('Pclass')['Survived'].mean()*100 # процент выживаемости по классам пассажиров\n",
        "print(survival.round(1))\n",
        "#################################################################\n",
        "import re\n",
        "\n",
        "def extract_name(full_name): # извлечение имени\n",
        "  match=re.search(r'([A-Za-z]+)\\.\\s+([A-Za-z]+)', full_name)\n",
        "  return match.group(2).split()[0] if match else None\n",
        "\n",
        "df['FirstName']=df['Name'].apply(extract_name)\n",
        "\n",
        "names_by_sex=df.groupby(['Sex'])['FirstName'] \\\n",
        "    .apply(lambda x: x.mode()[0] if not x.empty else None)  # фильтрация по женскому\\мужскому имени\n",
        "\n",
        "names_by_class_sex=df.groupby(['Pclass', 'Sex'])['FirstName'] \\\n",
        "    .apply(lambda x: x.mode()[0] if not x.empty else None)  # фильтрация по имени в каждом классе\n",
        "\n",
        "print(names_by_sex)\n",
        "print(names_by_class_sex)\n",
        "#################################################################\n",
        "df_age_above_44=df[df['Age']>44] # пассажиры, возраст которых больше 44 лет\n",
        "\n",
        "print(df_age_above_44.head())\n",
        "#################################################################\n",
        "df_mail_below_44=df[(df['Age']<44) & (df['Sex']=='male')] # пассажиры мужского пола, возраст которых меньше 44 лет\n",
        "\n",
        "print(df_mail_below_44.head())\n",
        "#################################################################\n",
        "df_cabin=df.dropna(subset=['Cabin']) # удаляем пропуски в каютах\n",
        "\n",
        "cabin_counts=df_cabin['Cabin'].value_counts() # подсчет кол-ва пассажиров в каждой каюте\n",
        "n_seat_cabins=cabin_counts.value_counts().sort_index() # подсчет кают с 1,2,3 пассажира\n",
        "\n",
        "print(n_seat_cabins)"
      ],
      "metadata": {
        "colab": {
          "base_uri": "https://localhost:8080/"
        },
        "id": "9Dw715ggoasc",
        "outputId": "aa11ee82-78bb-4dee-ba6a-9edc718e2fd4"
      },
      "execution_count": 5,
      "outputs": [
        {
          "output_type": "stream",
          "name": "stdout",
          "text": [
            "Drive already mounted at /gdrive; to attempt to forcibly remount, call drive.mount(\"/gdrive\", force_remount=True).\n",
            "<class 'pandas.core.frame.DataFrame'>\n",
            "RangeIndex: 891 entries, 0 to 890\n",
            "Data columns (total 12 columns):\n",
            " #   Column       Non-Null Count  Dtype  \n",
            "---  ------       --------------  -----  \n",
            " 0   PassengerId  891 non-null    int64  \n",
            " 1   Survived     891 non-null    int64  \n",
            " 2   Pclass       891 non-null    int64  \n",
            " 3   Name         891 non-null    object \n",
            " 4   Sex          891 non-null    object \n",
            " 5   Age          714 non-null    float64\n",
            " 6   SibSp        891 non-null    int64  \n",
            " 7   Parch        891 non-null    int64  \n",
            " 8   Ticket       891 non-null    object \n",
            " 9   Fare         891 non-null    float64\n",
            " 10  Cabin        204 non-null    object \n",
            " 11  Embarked     889 non-null    object \n",
            "dtypes: float64(2), int64(5), object(5)\n",
            "memory usage: 83.7+ KB\n",
            "Pclass\n",
            "1    63.0\n",
            "2    47.3\n",
            "3    24.2\n",
            "Name: Survived, dtype: float64\n",
            "Sex\n",
            "female    William\n",
            "male      William\n",
            "Name: FirstName, dtype: object\n",
            "Pclass  Sex   \n",
            "1       female    Elizabeth\n",
            "        male        William\n",
            "2       female      William\n",
            "        male        William\n",
            "3       female         Anna\n",
            "        male        William\n",
            "Name: FirstName, dtype: object\n",
            "    PassengerId  Survived  Pclass                                      Name  \\\n",
            "6             7         0       1                   McCarthy, Mr. Timothy J   \n",
            "11           12         1       1                  Bonnell, Miss. Elizabeth   \n",
            "15           16         1       2          Hewlett, Mrs. (Mary D Kingcome)    \n",
            "33           34         0       2                     Wheadon, Mr. Edward H   \n",
            "52           53         1       1  Harper, Mrs. Henry Sleeper (Myna Haxtun)   \n",
            "\n",
            "       Sex   Age  SibSp  Parch      Ticket     Fare Cabin Embarked  FirstName  \n",
            "6     male  54.0      0      0       17463  51.8625   E46        S    Timothy  \n",
            "11  female  58.0      0      0      113783  26.5500  C103        S  Elizabeth  \n",
            "15  female  55.0      0      0      248706  16.0000   NaN        S       None  \n",
            "33    male  66.0      0      0  C.A. 24579  10.5000   NaN        S     Edward  \n",
            "52  female  49.0      1      0    PC 17572  76.7292   D33        C      Henry  \n",
            "    PassengerId  Survived  Pclass                            Name   Sex   Age  \\\n",
            "0             1         0       3         Braund, Mr. Owen Harris  male  22.0   \n",
            "4             5         0       3        Allen, Mr. William Henry  male  35.0   \n",
            "7             8         0       3  Palsson, Master. Gosta Leonard  male   2.0   \n",
            "12           13         0       3  Saundercock, Mr. William Henry  male  20.0   \n",
            "13           14         0       3     Andersson, Mr. Anders Johan  male  39.0   \n",
            "\n",
            "    SibSp  Parch     Ticket    Fare Cabin Embarked FirstName  \n",
            "0       1      0  A/5 21171   7.250   NaN        S      Owen  \n",
            "4       0      0     373450   8.050   NaN        S   William  \n",
            "7       3      1     349909  21.075   NaN        S     Gosta  \n",
            "12      0      0  A/5. 2151   8.050   NaN        S   William  \n",
            "13      1      5     347082  31.275   NaN        S    Anders  \n",
            "count\n",
            "1    101\n",
            "2     38\n",
            "3      5\n",
            "4      3\n",
            "Name: count, dtype: int64\n"
          ]
        }
      ]
    }
  ],
  "metadata": {
    "colab": {
      "provenance": []
    },
    "kernelspec": {
      "display_name": "Python 3",
      "name": "python3"
    },
    "language_info": {
      "name": "python"
    }
  },
  "nbformat": 4,
  "nbformat_minor": 0
}